{
 "cells": [
  {
   "cell_type": "code",
   "execution_count": 1,
   "id": "fa6ce65a-6f46-414d-bcf7-a43ceb7b83f5",
   "metadata": {},
   "outputs": [],
   "source": [
    "import trimesh\n",
    "import numpy as np\n",
    "import torch\n",
    "from sample import *\n",
    "from hermite_spline import *\n",
    "from unet import *\n",
    "from torch.optim import Adam, LBFGS\n",
    "from tqdm import tqdm"
   ]
  },
  {
   "cell_type": "code",
   "execution_count": 2,
   "id": "5b1c1fed-4893-4430-a4d9-b7cfe2371dea",
   "metadata": {},
   "outputs": [],
   "source": [
    "def h0(diff, der = 0):\n",
    "    abs_diff = torch.abs(diff)\n",
    "    if der == 0:\n",
    "        return (1-abs_diff)**2*(1+2*abs_diff)\n",
    "    elif der == 1:\n",
    "        return 6*diff*(abs_diff-1)\n",
    "    elif der == 2:\n",
    "        return 12*abs_diff-6\n",
    "\n",
    "def h1(diff, der = 0):\n",
    "    abs_diff = torch.abs(diff)\n",
    "    if der == 0:\n",
    "        return diff*(1-abs_diff)**2\n",
    "    elif der == 1:\n",
    "        return 3*abs_diff**2 - 4*abs_diff + 1\n",
    "    elif der == 2:\n",
    "        return 6*diff - 4*abs_diff\n",
    "\n",
    "basis_functions = [h0, h1]"
   ]
  },
  {
   "cell_type": "code",
   "execution_count": 9,
   "id": "0e294350-a745-444b-b7f7-263bf945ed74",
   "metadata": {},
   "outputs": [],
   "source": [
    "def get_field(coefficients, field_idx, points, x_support, y_support, z_support, step, basis, der_x = 0, der_y = 0, der_z = 0):\n",
    "    field = torch.zeros(points.shape[0])\n",
    "    for l, p in enumerate(points):\n",
    "        result = 0.0\n",
    "        coeff = coefficients[field_idx, :, x_support[0, l]:x_support[1, l]+1, y_support[0, l]:y_support[1, l]+1, z_support[0, l]:z_support[1, l]+1].view(2, 2, 2, 2, 2, 2)\n",
    "        x_indices = torch.arange(x_support[0, l], x_support[1, l] + 1)  # x range\n",
    "        y_indices = torch.arange(y_support[0, l], y_support[1, l] + 1)  # y range\n",
    "        z_indices = torch.arange(z_support[0, l], z_support[1, l] + 1)  # z range\n",
    "        x_coords = x_indices * step[0]\n",
    "        y_coords = y_indices * step[1]\n",
    "        z_coords = z_indices * step[2]\n",
    "        # Generate all combinations of grid coordinates\n",
    "        xx, yy, zz = torch.meshgrid(x_coords, y_coords, z_coords, indexing=\"ij\")\n",
    "        grid_points = torch.stack([xx.flatten(), yy.flatten(), zz.flatten()], dim=1)  # Shape: (8, 3)\n",
    "        for a in range(2):\n",
    "            for b in range(2):\n",
    "                for c in range(2):\n",
    "                    for i in range(2):\n",
    "                        for j in range(2):\n",
    "                            for k in range(2):\n",
    "                                h_i = basis[i](((p[0] - grid_points[a * 4 + b * 2 + c, 0]))/step[0], der_x)\n",
    "                                h_j = basis[j]((p[1] - grid_points[a * 4 + b * 2 + c, 1])/step[1], der_y)\n",
    "                                h_k = basis[k]((p[2] - grid_points[a * 4 + b * 2 + c, 2])/step[2], der_z)\n",
    "                                result += coeff[i, j, k, a, b, c] * h_i * h_j * h_k\n",
    "        field[l] = result\n",
    "    return field"
   ]
  },
  {
   "cell_type": "code",
   "execution_count": 4,
   "id": "a22f4b44-c464-4da9-ac21-b4b30f5967eb",
   "metadata": {},
   "outputs": [],
   "source": [
    "def get_support_points(points):\n",
    "    x = points[:,0]\n",
    "    y = points[:,1]\n",
    "    z = points[:,2]\n",
    "    x_floor = (x//step[0]).long()\n",
    "    y_floor = (y//step[1]).long()\n",
    "    z_floor = (z//step[2]).long()\n",
    "    x_support_indices = torch.vstack((x_floor, torch.clamp(x_floor+1,max=grid_resolution[0]-1)))\n",
    "    y_support_indices = torch.vstack((y_floor, torch.clamp(y_floor+1,max=grid_resolution[1]-1)))\n",
    "    z_support_indices = torch.vstack((z_floor, torch.clamp(z_floor+1,max=grid_resolution[2]-1)))\n",
    "    return x_support_indices,y_support_indices,z_support_indices"
   ]
  },
  {
   "cell_type": "code",
   "execution_count": 5,
   "id": "3fedd260-2173-4cb7-84ea-49de3e6f95a7",
   "metadata": {},
   "outputs": [],
   "source": [
    "obj = trimesh.load(\"./Baseline_ML4Science.stl\")\n",
    "grid_resolution = np.array([20,20,20])\n",
    "step = torch.tensor(obj.bounding_box.extents/(grid_resolution-1))"
   ]
  },
  {
   "cell_type": "code",
   "execution_count": 6,
   "id": "4c1103e8-bd70-4f12-8f24-cb16e22d3960",
   "metadata": {},
   "outputs": [],
   "source": [
    "device = 'cpu'\n",
    "binary_mask = get_binary_mask(obj, grid_resolution)\n",
    "unet_model = UNet3D().to(device)\n",
    "optim = Adam(unet_model.parameters(), lr = 1e-3)\n",
    "unet_input = prepare_mesh_for_unet(binary_mask)"
   ]
  },
  {
   "cell_type": "code",
   "execution_count": 7,
   "id": "01e7ceb8-1011-4f48-8f3d-64d628b7c32d",
   "metadata": {},
   "outputs": [],
   "source": [
    "spline_coeff = unet_model(unet_input)[0]\n",
    "points = torch.tensor(trimesh.sample.volume_mesh(obj, 100))\n",
    "points.requires_grad_(True)\n",
    "x_support, y_support, z_support = get_support_points(points)"
   ]
  },
  {
   "cell_type": "code",
   "execution_count": 10,
   "id": "7a14fa3f-c1b4-48cb-848c-3b23acd3a48f",
   "metadata": {},
   "outputs": [
    {
     "name": "stdout",
     "output_type": "stream",
     "text": [
      "Loss: 0.00313269579783082, 0.0006003637099638581, 0.00217741378583014, 0.0003365481679793447\n",
      "Loss: 0.0033193277195096016, 0.000492704682983458, 0.00025023528723977506, 0.00031928118551149964\n",
      "Loss: 0.0020049293525516987, 0.0008497923263348639, 0.0014850469306111336, 0.00012643424270208925\n"
     ]
    }
   ],
   "source": [
    "for i in range(3):\n",
    "    spline_coeff = unet_model(unet_input)[0]\n",
    "\n",
    "    points = torch.tensor(trimesh.sample.volume_mesh(obj, 100))\n",
    "    points.requires_grad_(True)\n",
    "\n",
    "    x_support, y_support, z_support = get_support_points(points)\n",
    "\n",
    "    vx = get_field(spline_coeff, 0, points, x_support, y_support, z_support, step, basis_functions)\n",
    "    vy = get_field(spline_coeff, 1, points, x_support, y_support, z_support, step, basis_functions)\n",
    "    vz = get_field(spline_coeff, 2, points, x_support, y_support, z_support, step, basis_functions)\n",
    "    p = get_field(spline_coeff, 3, points, x_support, y_support, z_support, step, basis_functions)\n",
    "    \n",
    "    vx_x = get_field(spline_coeff, 0, points, x_support, y_support, z_support, step, basis_functions, 1, 0, 0)\n",
    "    vx_y = get_field(spline_coeff, 0, points, x_support, y_support, z_support, step, basis_functions, 0, 1, 0)\n",
    "    vx_z = get_field(spline_coeff, 0, points, x_support, y_support, z_support, step, basis_functions, 0, 0, 1)\n",
    "\n",
    "    vy_x = get_field(spline_coeff, 1, points, x_support, y_support, z_support, step, basis_functions, 1, 0, 0)\n",
    "    vy_y = get_field(spline_coeff, 1, points, x_support, y_support, z_support, step, basis_functions, 0, 1, 0)\n",
    "    vy_z = get_field(spline_coeff, 1, points, x_support, y_support, z_support, step, basis_functions, 0, 0, 1)\n",
    "    \n",
    "    vz_x = get_field(spline_coeff, 2, points, x_support, y_support, z_support, step, basis_functions, 1, 0, 0)\n",
    "    vz_y = get_field(spline_coeff, 2, points, x_support, y_support, z_support, step, basis_functions, 0, 1, 0)\n",
    "    vz_z = get_field(spline_coeff, 2, points, x_support, y_support, z_support, step, basis_functions, 0, 0, 1)\n",
    "    \n",
    "    p_x = get_field(spline_coeff, 3, points, x_support, y_support, z_support, step, basis_functions, 1, 0, 0)\n",
    "    p_y = get_field(spline_coeff, 3, points, x_support, y_support, z_support, step, basis_functions, 0, 1, 0)\n",
    "    p_z = get_field(spline_coeff, 3, points, x_support, y_support, z_support, step, basis_functions, 0, 0, 1)\n",
    "    \n",
    "    vx_xx = get_field(spline_coeff, 0, points, x_support, y_support, z_support, step, basis_functions, 2, 0, 0)\n",
    "    vx_yy = get_field(spline_coeff, 0, points, x_support, y_support, z_support, step, basis_functions, 0, 2, 0)\n",
    "    vx_zz = get_field(spline_coeff, 0, points, x_support, y_support, z_support, step, basis_functions, 0, 0, 2)\n",
    "    \n",
    "    vy_xx = get_field(spline_coeff, 1, points, x_support, y_support, z_support, step, basis_functions, 2, 0, 0)\n",
    "    vy_yy = get_field(spline_coeff, 1, points, x_support, y_support, z_support, step, basis_functions, 0, 2, 0)\n",
    "    vy_zz = get_field(spline_coeff, 1, points, x_support, y_support, z_support, step, basis_functions, 0, 0, 2)\n",
    "    \n",
    "    vz_xx = get_field(spline_coeff, 2, points, x_support, y_support, z_support, step, basis_functions, 2, 0, 0)\n",
    "    vz_yy = get_field(spline_coeff, 2, points, x_support, y_support, z_support, step, basis_functions, 0, 2, 0)\n",
    "    vz_zz = get_field(spline_coeff, 2, points, x_support, y_support, z_support, step, basis_functions, 0, 0, 2)\n",
    "    \n",
    "    rho = 1.010427\n",
    "    mu = 2.02e-5\n",
    "    loss_divergence = torch.mean((vx_x + vy_y + vz_z)**2)\n",
    "    loss_momentum_x = torch.mean((vx*vx_x + vy*vx_y + vz*vx_z + (1/rho)*p_x - (mu/rho)*(vx_xx + vx_yy + vx_zz))**2)\n",
    "    loss_momentum_y = torch.mean((vx*vy_x + vy*vy_y + vz*vy_z + (1/rho)*p_y - (mu/rho)*(vy_xx + vy_yy + vy_zz))**2)\n",
    "    loss_momentum_z = torch.mean((vx*vz_x + vy*vz_y + vz*vz_z + (1/rho)*p_z - (mu/rho)*(vz_xx + vz_yy + vz_zz))**2)\n",
    "\n",
    "    loss = loss_divergence + 10.0*loss_momentum_x + 10.0*loss_momentum_y + 10.0*loss_momentum_z\n",
    "    print(f'Loss: {loss_divergence.item()}, {loss_momentum_x.item()}, {loss_momentum_y.item()}, {loss_momentum_z.item()}')\n",
    "    optim.zero_grad()\n",
    "    loss.backward()\n",
    "    optim.step()"
   ]
  },
  {
   "cell_type": "code",
   "execution_count": null,
   "id": "bfcb3aec-7765-45b3-8e21-f964fed74c1f",
   "metadata": {},
   "outputs": [],
   "source": []
  }
 ],
 "metadata": {
  "kernelspec": {
   "display_name": "Python 3 (ipykernel)",
   "language": "python",
   "name": "python3"
  },
  "language_info": {
   "codemirror_mode": {
    "name": "ipython",
    "version": 3
   },
   "file_extension": ".py",
   "mimetype": "text/x-python",
   "name": "python",
   "nbconvert_exporter": "python",
   "pygments_lexer": "ipython3",
   "version": "3.9.6"
  }
 },
 "nbformat": 4,
 "nbformat_minor": 5
}
